{
 "cells": [
  {
   "cell_type": "markdown",
   "id": "ddd5761d",
   "metadata": {},
   "source": [
    "1.\tWrite a Python Program to find sum of array?\n",
    "\n",
    "Ans:\n",
    "    \n",
    "    "
   ]
  },
  {
   "cell_type": "code",
   "execution_count": 1,
   "id": "d8716929",
   "metadata": {},
   "outputs": [
    {
     "name": "stdout",
     "output_type": "stream",
     "text": [
      "Enter the Array: 3,5,7,3,2,7,9\n",
      "The sum of (3, 5, 7, 3, 2, 7, 9) is 36\n"
     ]
    }
   ],
   "source": [
    "def sumOfArray():\n",
    "    in_arr = eval(input(\"Enter the Array: \"))\n",
    "    print(f'The sum of {in_arr} is {sum(in_arr)}')\n",
    "\n",
    "sumOfArray()"
   ]
  },
  {
   "cell_type": "markdown",
   "id": "dc1c38f2",
   "metadata": {},
   "source": [
    "2.\tWrite a Python Program to find largest element in an array?\n",
    "\n",
    "Ans:\n",
    "    \n",
    "    "
   ]
  },
  {
   "cell_type": "code",
   "execution_count": 2,
   "id": "820c6ba7",
   "metadata": {},
   "outputs": [
    {
     "name": "stdout",
     "output_type": "stream",
     "text": [
      "Enter the Array: 2,3,6,8,9,5,2,1\n",
      "The Largest Element in (2, 3, 6, 8, 9, 5, 2, 1) is 9\n"
     ]
    }
   ],
   "source": [
    "def largestElement():\n",
    "    in_arr = eval(input(\"Enter the Array: \"))\n",
    "    print(f\"The Largest Element in {in_arr} is {sorted(in_arr, reverse=True)[0]}\")\n",
    "    \n",
    "largestElement()"
   ]
  },
  {
   "cell_type": "markdown",
   "id": "f96c66d2",
   "metadata": {},
   "source": [
    "3.\tWrite a Python Program for array rotation?\n",
    "\n",
    "Ans:\n",
    "    \n",
    "    "
   ]
  },
  {
   "cell_type": "code",
   "execution_count": 3,
   "id": "b459bd63",
   "metadata": {},
   "outputs": [
    {
     "name": "stdout",
     "output_type": "stream",
     "text": [
      "Enter the Array: 25,4,2,1,5,7\n",
      "The Reverse of Array (25, 4, 2, 1, 5, 7) is (7, 5, 1, 2, 4, 25)\n"
     ]
    }
   ],
   "source": [
    "def reverseOfArray():\n",
    "    in_arr = eval(input(\"Enter the Array: \"))\n",
    "    print(f\"The Reverse of Array {in_arr} is {in_arr[::-1]}\")\n",
    "    \n",
    "reverseOfArray()"
   ]
  },
  {
   "cell_type": "markdown",
   "id": "b69a0688",
   "metadata": {},
   "source": [
    "4.\tWrite a Python Program to Split the array and add the first part to the end?\n",
    "\n",
    "Ans:\n",
    "    \n",
    "    "
   ]
  },
  {
   "cell_type": "code",
   "execution_count": 4,
   "id": "afbe2bb8",
   "metadata": {},
   "outputs": [
    {
     "name": "stdout",
     "output_type": "stream",
     "text": [
      "Enter the Array: 8,6,4,3,2,1,8,0,6\n",
      "The Sum of First and Last Elements of Array (8, 6, 4, 3, 2, 1, 8, 0, 6) is 14\n"
     ]
    }
   ],
   "source": [
    "def sumOfSplits():\n",
    "    in_arr = eval(input(\"Enter the Array: \"))\n",
    "    print(f\"The Sum of First and Last Elements of Array {in_arr} is {in_arr[0]+in_arr[-1]}\")\n",
    "    \n",
    "sumOfSplits()"
   ]
  },
  {
   "cell_type": "markdown",
   "id": "12f6753c",
   "metadata": {},
   "source": [
    "5.\tWrite a Python Program to check if given array is Monotonic?\n",
    "\n",
    "Ans:\n",
    "    \n",
    "    "
   ]
  },
  {
   "cell_type": "code",
   "execution_count": 6,
   "id": "3fcefb31",
   "metadata": {},
   "outputs": [
    {
     "name": "stdout",
     "output_type": "stream",
     "text": [
      "Enter the Array: 1,2,3,4,5,6\n",
      "Array (1, 2, 3, 4, 5, 6) is Monotonic\n",
      "Enter the Array: 2,4,5,7,3,2,5,7\n",
      "Array (2, 4, 5, 7, 3, 2, 5, 7) is Not Monotonic\n"
     ]
    }
   ],
   "source": [
    "def checkMonotonic():\n",
    "    in_arr = eval(input(\"Enter the Array: \"))\n",
    "    if(all(in_arr[i]<=in_arr[i+1] for i in range(len(in_arr)-1)) or all(in_arr[i]>=in_arr[i+1] for i in range(len(in_arr)-1))):\n",
    "        print(f'Array {in_arr} is Monotonic')\n",
    "    else:\n",
    "        print(f'Array {in_arr} is Not Monotonic')\n",
    "\n",
    "checkMonotonic()\n",
    "checkMonotonic()\n"
   ]
  },
  {
   "cell_type": "code",
   "execution_count": null,
   "id": "40d8241e",
   "metadata": {},
   "outputs": [],
   "source": []
  }
 ],
 "metadata": {
  "kernelspec": {
   "display_name": "Python 3 (ipykernel)",
   "language": "python",
   "name": "python3"
  },
  "language_info": {
   "codemirror_mode": {
    "name": "ipython",
    "version": 3
   },
   "file_extension": ".py",
   "mimetype": "text/x-python",
   "name": "python",
   "nbconvert_exporter": "python",
   "pygments_lexer": "ipython3",
   "version": "3.9.12"
  }
 },
 "nbformat": 4,
 "nbformat_minor": 5
}
